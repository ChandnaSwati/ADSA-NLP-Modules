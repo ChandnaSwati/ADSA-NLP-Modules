{
 "cells": [
  {
   "cell_type": "code",
   "execution_count": null,
   "id": "f4ff414c",
   "metadata": {},
   "outputs": [],
   "source": [
    "# ============================================\n",
    "# Module 10: Retrieval-Augmented Generation & Vector Search\n",
    "# Mini-Assignment – Build Your Own RAG System\n",
    "# ============================================\n",
    "# Author: Dr. Dasha Trofimova\n",
    "# Course: M.Sc. Applied Data Science & AI\n",
    "# --------------------------------------------\n",
    "# Learning Goals:\n",
    "# - Design and implement a retrieval-augmented pipeline end-to-end\n",
    "# - Integrate document ingestion, embedding, storage, and generation\n",
    "# - Evaluate accuracy and citation quality of generated answers\n",
    "# --------------------------------------------\n",
    "# Assignment Objectives:\n",
    "# 1. Choose a small knowledge corpus (PDFs, text files, or web pages)\n",
    "# 2. Create embeddings and build a retriever (FAISS or Chroma)\n",
    "# 3. Connect the retriever to a small open-source LLM\n",
    "# 4. Implement a simple chat interface for user queries\n",
    "# 5. Evaluate retrieval quality vs. direct model answers\n",
    "# ============================================\n"
   ]
  }
 ],
 "metadata": {
  "language_info": {
   "name": "python"
  }
 },
 "nbformat": 4,
 "nbformat_minor": 5
}
