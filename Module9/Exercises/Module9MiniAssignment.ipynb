{
 "cells": [
  {
   "cell_type": "code",
   "execution_count": null,
   "metadata": {},
   "outputs": [],
   "source": [
    "# ============================================\n",
    "# Module 9: Pretrained Models & Transfer Learning\n",
    "# Mini-Assignment – Fine-Tune Your Own Model\n",
    "# ============================================\n",
    "# Author: Dr. Dasha Trofimova\n",
    "# Course: M.Sc. Applied Data Science & AI\n",
    "# --------------------------------------------\n",
    "# Learning Goals:\n",
    "# - Apply transfer learning independently on a chosen dataset\n",
    "# - Fine-tune any pretrained Transformer for classification\n",
    "# - Evaluate and interpret model performance\n",
    "# --------------------------------------------\n",
    "# Assignment Objectives:\n",
    "# 1. Select a small labeled dataset (IMDB, AG News, Tweets, etc.)\n",
    "# 2. Fine-tune a model such as BERT, DistilBERT, or RoBERTa\n",
    "# 3. Report accuracy/F1 metrics and example predictions\n",
    "# 4. Reflect on improvement ideas (epochs, LR, class balance)\n",
    "# ============================================\n"
   ]
  }
 ],
 "metadata": {
  "language_info": {
   "name": "python"
  }
 },
 "nbformat": 4,
 "nbformat_minor": 5
}
