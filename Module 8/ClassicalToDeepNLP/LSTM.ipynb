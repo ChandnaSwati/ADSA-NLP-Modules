{
 "cells": [
  {
   "cell_type": "code",
   "execution_count": 25,
   "metadata": {},
   "outputs": [
    {
     "data": {
      "text/plain": [
       "<torch._C.Generator at 0x1334db090>"
      ]
     },
     "execution_count": 25,
     "metadata": {},
     "output_type": "execute_result"
    }
   ],
   "source": [
    "# ---------------------------------------------\n",
    "# Step 1: Import the necessary libraries\n",
    "# ---------------------------------------------\n",
    "import torch\n",
    "import torch.nn as nn\n",
    "import torch.optim as optim\n",
    "from torch.utils.data import TensorDataset, DataLoader\n",
    "import matplotlib.pyplot as plt\n",
    "\n",
    "# Fix the random seed so we get the same results each time (for reproducibility)\n",
    "torch.manual_seed(42)\n"
   ]
  },
  {
   "cell_type": "code",
   "execution_count": 50,
   "metadata": {},
   "outputs": [],
   "source": [
    "# ---------------------------------------------\n",
    "# Step 2: Create a simple sequential dataset\n",
    "# ---------------------------------------------\n",
    "# Each sample will be a sequence of 100 random numbers (like a short time series)\n",
    "\n",
    "\n",
    "n_samples = 200       # total number of sequences\n",
    "seq_len = 50       # how many time steps in each sequence\n",
    "features = 1          # each time step has only 1 feature\n",
    "\n",
    "# Create 200 random sequences, each with 100 numbers between 0 and 1\n",
    "first_vals = torch.rand(n_samples, 1, 1)\n",
    "noise = 0.1 * torch.rand(n_samples, seq_len, 1)\n",
    "X = first_vals + noise               # later values similar to the first one\n",
    "y = (first_vals[:, 0, 0] > 0.5).float()\n",
    "\n",
    "\n",
    "# Combine data and labels into a TensorDataset\n",
    "dataset = TensorDataset(X, y)\n",
    "\n",
    "# Use a DataLoader to iterate through the data in small batches (helps training)\n",
    "loader = DataLoader(dataset, batch_size=16, shuffle=True)\n"
   ]
  },
  {
   "cell_type": "code",
   "execution_count": 52,
   "metadata": {},
   "outputs": [],
   "source": [
    "# ---------------------------------------------\n",
    "# Step 3: Define the LSTM Model\n",
    "# ---------------------------------------------\n",
    "class SimpleLSTM(nn.Module):\n",
    "    def __init__(self):\n",
    "        super().__init__()\n",
    "\n",
    "        # LSTM layer:\n",
    "        # input_size = 1 → each time step has 1 feature (a single number)\n",
    "        # hidden_size = 64 → the LSTM will have 64 hidden neurons (memory cells)\n",
    "        # batch_first=True → input shape = (batch_size, seq_length, features)\n",
    "        self.lstm = nn.LSTM(input_size=1, hidden_size=64, batch_first=True)\n",
    "\n",
    "        #  Fully connected layer:\n",
    "        # Takes the last output from the LSTM and maps it to 1 output neuron (0 or 1)\n",
    "        self.fc = nn.Linear(64, 1)\n",
    "\n",
    "    def forward(self, x):\n",
    "        # The LSTM processes the input sequence and returns two things:\n",
    "        # 'out' → outputs for all time steps\n",
    "        # '(h, c)' → the final hidden and cell states \n",
    "        out, (h, c) = self.lstm(x)\n",
    "\n",
    "        # We only care about the output of the LAST time step\n",
    "        # because we want to predict ONE label per sequence.\n",
    "        last_out = out[:, -1, :]\n",
    "\n",
    "        # Pass this through the final fully connected (linear) layer\n",
    "        # to get the final prediction (logit).\n",
    "        return self.fc(last_out)\n",
    "\n"
   ]
  },
  {
   "cell_type": "code",
   "execution_count": 53,
   "metadata": {},
   "outputs": [],
   "source": [
    "# ---------------------------------------------\n",
    "# Step 4: Initialize model, loss, and optimizer\n",
    "# ---------------------------------------------\n",
    "model = SimpleLSTM()\n",
    "\n",
    "# BCEWithLogitsLoss combines a Sigmoid layer + Binary Cross Entropy loss\n",
    "# It's used for binary classification (0/1 tasks) and is more numerically stable.\n",
    "criterion = nn.BCEWithLogitsLoss()\n",
    "\n",
    "# Adam optimizer automatically adjusts learning rate during training.\n",
    "optimizer = optim.Adam(model.parameters(), lr=0.001)\n"
   ]
  },
  {
   "cell_type": "code",
   "execution_count": 54,
   "metadata": {},
   "outputs": [
    {
     "name": "stdout",
     "output_type": "stream",
     "text": [
      "Epoch 1 | Loss: 0.6848\n",
      "Epoch 2 | Loss: 0.6689\n",
      "Epoch 3 | Loss: 0.5656\n",
      "Epoch 4 | Loss: 0.2851\n",
      "Epoch 5 | Loss: 0.3445\n",
      "Epoch 6 | Loss: 0.3735\n",
      "Epoch 7 | Loss: 0.3978\n",
      "Epoch 8 | Loss: 0.4657\n",
      "Epoch 9 | Loss: 0.5451\n",
      "Epoch 10 | Loss: 0.4765\n",
      "Epoch 11 | Loss: 0.4192\n",
      "Epoch 12 | Loss: 0.3708\n",
      "Epoch 13 | Loss: 0.3499\n",
      "Epoch 14 | Loss: 0.3319\n",
      "Epoch 15 | Loss: 0.2141\n",
      "Epoch 16 | Loss: 0.2103\n",
      "Epoch 17 | Loss: 0.1600\n",
      "Epoch 18 | Loss: 0.0730\n",
      "Epoch 19 | Loss: 0.0522\n",
      "Epoch 20 | Loss: 0.0304\n",
      "Epoch 21 | Loss: 0.0236\n",
      "Epoch 22 | Loss: 0.0193\n",
      "Epoch 23 | Loss: 0.0156\n",
      "Epoch 24 | Loss: 0.0131\n",
      "Epoch 25 | Loss: 0.0113\n",
      "Epoch 26 | Loss: 0.0098\n",
      "Epoch 27 | Loss: 0.0088\n",
      "Epoch 28 | Loss: 0.0079\n",
      "Epoch 29 | Loss: 0.0071\n",
      "Epoch 30 | Loss: 0.0065\n"
     ]
    }
   ],
   "source": [
    "# ---------------------------------------------\n",
    "# Step 5: Train the model\n",
    "# ---------------------------------------------\n",
    "loss_history = []  # to store average loss per epoch (for visualization)\n",
    "\n",
    "for epoch in range(30):   # we'll train for 30 rounds (epochs)\n",
    "    total_loss = 0\n",
    "\n",
    "    # Go through each batch of 16 sequences\n",
    "    for batch_x, batch_y in loader:\n",
    "        optimizer.zero_grad()          # Reset gradients from previous step\n",
    "        preds = model(batch_x)         # Model predicts outputs (logits)\n",
    "\n",
    "        batch_y = batch_y.view(-1, 1)  # Reshape labels to match prediction shape\n",
    "\n",
    "        loss = criterion(preds, batch_y)  # Compare predictions to true labels\n",
    "\n",
    "        loss.backward()                # Compute gradients for all weights\n",
    "        optimizer.step()               # Update the weights (learning happens here)\n",
    "\n",
    "        total_loss += loss.item()      # Keep track of total loss for this epoch\n",
    "\n",
    "    # Calculate average loss for this epoch\n",
    "    avg_loss = total_loss / len(loader)\n",
    "    loss_history.append(avg_loss)\n",
    "\n",
    "    # Print progress\n",
    "    print(f\"Epoch {epoch+1} | Loss: {avg_loss:.4f}\")\n"
   ]
  },
  {
   "cell_type": "code",
   "execution_count": 55,
   "metadata": {},
   "outputs": [
    {
     "data": {
      "image/png": "[encoded data removed]",
      "text/plain": [
       "<Figure size 600x400 with 1 Axes>"
      ]
     },
     "metadata": {},
     "output_type": "display_data"
    }
   ],
   "source": [
    "# ---------------------------------------------\n",
    "#  Step 6: Visualize the training loss\n",
    "# ---------------------------------------------\n",
    "plt.figure(figsize=(6,4))\n",
    "plt.plot(loss_history, marker='o', color='purple')\n",
    "plt.title(\"📊 LSTM Training Loss Curve\")\n",
    "plt.xlabel(\"Epoch\")\n",
    "plt.ylabel(\"Loss (Error)\")\n",
    "plt.grid(True)\n",
    "plt.show()\n",
    "\n",
    "# Expected: The purple line should go down over time → loss decreases as model learns.\n"
   ]
  },
  {
   "cell_type": "code",
   "execution_count": 56,
   "metadata": {},
   "outputs": [
    {
     "name": "stdout",
     "output_type": "stream",
     "text": [
      "LSTM Accuracy: 100.00%\n"
     ]
    }
   ],
   "source": [
    "# ---------------------------------------------\n",
    "# Step 7: Evaluate model accuracy\n",
    "# ---------------------------------------------\n",
    "# We now check how well the trained model performs on all data.\n",
    "\n",
    "model.eval()  # Put model into evaluation mode (turns off dropout, etc.)\n",
    "\n",
    "with torch.no_grad():  # No gradient computation needed (faster)\n",
    "    preds = torch.sigmoid(model(X)).squeeze()  # Apply sigmoid to get probabilities (0–1)\n",
    "\n",
    "# Convert probabilities into 0 or 1 predictions\n",
    "pred_labels = (preds > 0.5).float()\n",
    "\n",
    "# Calculate accuracy: compare predicted labels to true labels\n",
    "acc = (pred_labels == y).float().mean().item()\n",
    "print(f\"LSTM Accuracy: {acc*100:.2f}%\")\n",
    "\n"
   ]
  }
 ],
 "metadata": {
  "kernelspec": {
   "display_name": "3.11.7",
   "language": "python",
   "name": "python3"
  },
  "language_info": {
   "codemirror_mode": {
    "name": "ipython",
    "version": 3
   },
   "file_extension": ".py",
   "mimetype": "text/x-python",
   "name": "python",
   "nbconvert_exporter": "python",
   "pygments_lexer": "ipython3",
   "version": "3.11.7"
  }
 },
 "nbformat": 4,
 "nbformat_minor": 2
}
