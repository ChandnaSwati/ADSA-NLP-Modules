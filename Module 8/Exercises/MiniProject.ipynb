{
 "cells": [
  {
   "cell_type": "markdown",
   "metadata": {},
   "source": [
    "### Challenge:\n",
    "Fine-tune an LSTM on IMDb or a small sentiment dataset.\n",
    "Steps:\n",
    "1. Tokenize text and build a vocabulary.\n",
    "2. Add an embedding layer before the LSTM.\n",
    "3. Train for 3 epochs.\n",
    "4. Test with your own sentences:\n",
    "   - “This movie was great!”\n",
    "   - “This movie was not great.”\n",
    "Compare predictions.\n"
   ]
  }
 ],
 "metadata": {
  "kernelspec": {
   "display_name": "3.11.7",
   "language": "python",
   "name": "python3"
  },
  "language_info": {
   "name": "python",
   "version": "3.11.7"
  }
 },
 "nbformat": 4,
 "nbformat_minor": 2
}
