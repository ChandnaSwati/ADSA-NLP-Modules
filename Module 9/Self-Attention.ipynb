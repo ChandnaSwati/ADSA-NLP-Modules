{
 "cells": [
  {
   "cell_type": "markdown",
   "metadata": {},
   "source": [
    "Why Transformers?\n",
    "\n",
    "Earlier models like RNNs and LSTMs read sequences word by word.\n",
    "That means they struggle with long sentences — they forget earlier context.\n",
    "\n",
    "Transformers changed that.\n",
    "1. They read the whole sentence at once and learn how words relate to each other using attention."
   ]
  },
  {
   "cell_type": "markdown",
   "metadata": {},
   "source": [
    "Core Idea\n",
    "\n",
    "Instead of recurrence, Transformers use Self-Attention.\n",
    "\n",
    "Input Sentence\tImportant Concept\n",
    "“The cat sat on the mat.”\tEach word looks at every other word to understand context.\n",
    "\n",
    "Example:\n",
    "\n",
    "For “cat”, the model also looks at “sat” and “mat”.\n",
    "\n",
    "It figures out relationships like subject, verb, object — automatically."
   ]
  },
  {
   "cell_type": "markdown",
   "metadata": {},
   "source": [
    "Transformer Architecture (Simplified)\n",
    "\n",
    "Two main parts:\n",
    "\n",
    "Part\tPurpose\n",
    "Encoder\tReads the input (e.g., English sentence) and understands meaning.\n",
    "Decoder\tUses that understanding to generate output (e.g., German translation).\n",
    "\n",
    "Each part is built from blocks with:\n",
    "\n",
    "Multi-Head Self-Attention\n",
    "\n",
    "Feed-Forward Network\n",
    "\n",
    "Layer Normalization & Residual Connections"
   ]
  },
  {
   "cell_type": "markdown",
   "metadata": {},
   "source": [
    "Step-by-Step Flow\n",
    "1️⃣ Input Embeddings\n",
    "\n",
    "Convert words → vectors (numbers).\n",
    "\n",
    "2️⃣ Add Positional Encoding\n",
    "\n",
    "Since Transformers don’t read sequentially, we add position info so the model knows order.\n",
    "\n",
    "3️⃣ Self-Attention\n",
    "\n",
    "Each word attends to others → builds contextual representation.\n",
    "\n",
    "4️⃣ Feed-Forward Network\n",
    "\n",
    "Processes each position independently.\n",
    "\n",
    "5️⃣ Stack Many Layers\n",
    "\n",
    "Each layer refines understanding of relationships."
   ]
  },
  {
   "cell_type": "markdown",
   "metadata": {},
   "source": [
    "Step 1: The Problem Self-Attention Solves\n",
    "\n",
    "When reading a sentence, we don’t look at just one word at a time —\n",
    "we look at relationships between words.\n",
    "\n",
    "Example:\n",
    "\n",
    "The word “love” depends on “I” (who loves) and “AI” (what is loved).\n",
    "\n",
    "To understand “love”, we must look at both “I” and “AI”.\n",
    "\n",
    "That’s exactly what self-attention does —\n",
    "each word looks at every other word to understand context.\n",
    "\n",
    "\n",
    "In deep learning, words become vectors (embeddings).\n",
    "Let’s assign a tiny 4-dimensional embedding to each word:"
   ]
  },
  {
   "cell_type": "code",
   "execution_count": 1,
   "metadata": {},
   "outputs": [
    {
     "name": "stdout",
     "output_type": "stream",
     "text": [
      "Input Embeddings:\n",
      " tensor([[1.0000, 0.0000, 0.5000, 0.0000],\n",
      "        [0.0000, 1.0000, 0.0000, 0.5000],\n",
      "        [0.5000, 0.5000, 1.0000, 0.0000]])\n"
     ]
    }
   ],
   "source": [
    "import torch\n",
    "import torch.nn.functional as F\n",
    "\n",
    "# Step 1: Represent the sentence\n",
    "sentence = [\"I\", \"love\", \"AI\"]\n",
    "\n",
    "# Let's say each word is represented by a 4-dim embedding\n",
    "embeddings = {\n",
    "    \"I\": torch.tensor([1.0, 0.0, 0.5, 0.0]),\n",
    "    \"love\": torch.tensor([0.0, 1.0, 0.0, 0.5]),\n",
    "    \"AI\": torch.tensor([0.5, 0.5, 1.0, 0.0])\n",
    "}\n",
    "\n",
    "# Stack the embeddings into a matrix (sequence_len × embedding_dim)\n",
    "X = torch.stack([embeddings[w] for w in sentence])\n",
    "print(\"Input Embeddings:\\n\", X)\n"
   ]
  },
  {
   "cell_type": "markdown",
   "metadata": {},
   "source": [
    "Step 3: Queries, Keys, and Values (Q, K, V)\n",
    "\n",
    "Every word now needs three roles:\n",
    "\n",
    "Role\tMeaning\n",
    "Query (Q)\tWhat this word is looking for\n",
    "Key (K)\tWhat this word offers to others\n",
    "Value (V)\tThe actual information this word contains"
   ]
  },
  {
   "cell_type": "code",
   "execution_count": 8,
   "metadata": {},
   "outputs": [],
   "source": [
    "# Random weight matrices (these would be learned in training)\n",
    "torch.manual_seed(0)\n",
    "d_model = 4\n",
    "Wq = torch.rand(d_model, d_model)\n",
    "Wk = torch.rand(d_model, d_model)\n",
    "Wv = torch.rand(d_model, d_model)\n",
    "\n",
    "# Compute Queries, Keys, Values\n",
    "Q = X @ Wq\n",
    "K = X @ Wk\n",
    "V = X @ Wv\n"
   ]
  },
  {
   "cell_type": "markdown",
   "metadata": {},
   "source": [
    "Step 4: Compute Attention Scores\n",
    "\n",
    "To know how much attention one word pays to another,\n",
    "we measure similarity between Query of one word and Key of another word:\n",
    "\n",
    "The attention score between word *i* and word *j* is given by:\n",
    "\n",
    "$$\n",
    "\\text{score}(i, j) = \\frac{Q_i \\cdot K_j}{\\sqrt{d_k}}\n",
    "$$\n",
    "\n",
    "\n",
    "\t​\n",
    "\n",
    "\n",
    "That’s a dot product — large if two vectors point in the same direction."
   ]
  },
  {
   "cell_type": "code",
   "execution_count": 6,
   "metadata": {},
   "outputs": [
    {
     "name": "stdout",
     "output_type": "stream",
     "text": [
      "\n",
      "Attention Weights:\n",
      " tensor([[0.2774, 0.3150, 0.4075],\n",
      "        [0.2253, 0.3947, 0.3800],\n",
      "        [0.2270, 0.3414, 0.4316]])\n"
     ]
    }
   ],
   "source": [
    "# Scaled Dot-Product Attention\n",
    "d_k = K.size(-1)\n",
    "scores = Q @ K.T / torch.sqrt(torch.tensor(d_k, dtype=torch.float32))\n",
    "\n",
    "# Convert scores to probabilities\n",
    "weights = F.softmax(scores, dim=-1)\n",
    "print(\"\\nAttention Weights:\\n\", weights)\n"
   ]
  },
  {
   "cell_type": "markdown",
   "metadata": {},
   "source": [
    "Step 6: Combine Using Values (V)\n",
    "\n",
    "\n",
    "Each word gathers information from all others, weighted by their attention scores:\n",
    "\n",
    "$$\n",
    "\\text{Output}_i = \\sum_j \\left( \\text{weight}_{ij} \\times V_j \\right)\n",
    "$$\n"
   ]
  },
  {
   "cell_type": "code",
   "execution_count": 9,
   "metadata": {},
   "outputs": [
    {
     "name": "stdout",
     "output_type": "stream",
     "text": [
      "\n",
      "Attention Output (contextualized representations):\n",
      " tensor([[0.5020, 0.7835, 0.8954, 0.5434],\n",
      "        [0.4814, 0.8236, 0.9343, 0.6201],\n",
      "        [0.5044, 0.8117, 0.9275, 0.5811]])\n"
     ]
    }
   ],
   "source": [
    "# Weighted sum of values\n",
    "output = weights @ V\n",
    "print(\"\\nAttention Output (contextualized representations):\\n\", output)\n",
    "\n"
   ]
  },
  {
   "cell_type": "code",
   "execution_count": 12,
   "metadata": {},
   "outputs": [
    {
     "data": {
      "image/png": "[encoded data removed]",
      "text/plain": [
       "<Figure size 640x480 with 2 Axes>"
      ]
     },
     "metadata": {},
     "output_type": "display_data"
    }
   ],
   "source": [
    "import seaborn as sns\n",
    "import matplotlib.pyplot as plt\n",
    "\n",
    "sns.heatmap(weights.detach().numpy(), \n",
    "            annot=True, cmap=\"YlGnBu\", \n",
    "            xticklabels=[\"I\", \"love\", \"AI\"], \n",
    "            yticklabels=[\"I\", \"love\", \"AI\"])\n",
    "plt.title(\"Self-Attention Weights\")\n",
    "plt.show()\n",
    "\n"
   ]
  }
 ],
 "metadata": {
  "kernelspec": {
   "display_name": "3.11.7",
   "language": "python",
   "name": "python3"
  },
  "language_info": {
   "codemirror_mode": {
    "name": "ipython",
    "version": 3
   },
   "file_extension": ".py",
   "mimetype": "text/x-python",
   "name": "python",
   "nbconvert_exporter": "python",
   "pygments_lexer": "ipython3",
   "version": "3.11.7"
  }
 },
 "nbformat": 4,
 "nbformat_minor": 2
}
