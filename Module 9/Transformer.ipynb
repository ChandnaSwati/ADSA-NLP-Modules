{
 "cells": [
  {
   "cell_type": "code",
   "execution_count": null,
   "metadata": {},
   "outputs": [
    {
     "name": "stdout",
     "output_type": "stream",
     "text": [
      "\n",
      "\u001b[1m[\u001b[0m\u001b[34;49mnotice\u001b[0m\u001b[1;39;49m]\u001b[0m\u001b[39;49m A new release of pip is available: \u001b[0m\u001b[31;49m25.0.1\u001b[0m\u001b[39;49m -> \u001b[0m\u001b[32;49m25.3\u001b[0m\n",
      "\u001b[1m[\u001b[0m\u001b[34;49mnotice\u001b[0m\u001b[1;39;49m]\u001b[0m\u001b[39;49m To update, run: \u001b[0m\u001b[32;49mpip install --upgrade pip\u001b[0m\n",
      "Note: you may need to restart the kernel to use updated packages.\n"
     ]
    },
    {
     "name": "stderr",
     "output_type": "stream",
     "text": [
      "/Users/swatichandna/.pyenv/versions/3.11.7/lib/python3.11/site-packages/tqdm/auto.py:21: TqdmWarning: IProgress not found. Please update jupyter and ipywidgets. See https://ipywidgets.readthedocs.io/en/stable/user_install.html\n",
      "  from .autonotebook import tqdm as notebook_tqdm\n"
     ]
    },
    {
     "ename": "",
     "evalue": "",
     "output_type": "error",
     "traceback": [
      "\u001b[1;31mThe Kernel crashed while executing code in the current cell or a previous cell. \n",
      "\u001b[1;31mPlease review the code in the cell(s) to identify a possible cause of the failure. \n",
      "\u001b[1;31mClick <a href='https://aka.ms/vscodeJupyterKernelCrash'>here</a> for more info. \n",
      "\u001b[1;31mView Jupyter <a href='command:jupyter.viewOutput'>log</a> for further details."
     ]
    }
   ],
   "source": [
    "# 🌍 Simple Transformer Attention Visualizer (English → German)\n",
    "# =============================================================\n",
    "# This code:\n",
    "# 1️⃣ Translates English → German using a small pre-trained model (MarianMT)\n",
    "# 2️⃣ Visualizes how German words attend to English words (cross-attention)\n",
    "# -------------------------------------------------------------\n",
    "\n",
    "\n",
    "\n",
    "# ✅ Lightweight Translation with Attention Visualization (T5-small)\n",
    "# Works on CPU and Visual Studio, uses < 2 GB RAM\n",
    "\n",
    "%pip install transformers torch sentencepiece matplotlib seaborn --quiet\n",
    "\n",
    "from transformers import T5ForConditionalGeneration, T5Tokenizer\n",
    "import torch, matplotlib.pyplot as plt, seaborn as sns\n",
    "\n",
    "# -----------------------------\n",
    "# 1️⃣ Load lightweight model\n",
    "# -----------------------------\n",
    "model_name = \"google-t5/t5-small\"   # ✅ very small and Hugging Face verified\n",
    "tokenizer = T5Tokenizer.from_pretrained(model_name)\n",
    "model = T5ForConditionalGeneration.from_pretrained(model_name, output_attentions=True)\n",
    "model.eval();\n",
    "\n",
    "# -----------------------------\n",
    "# 2️⃣ Input sentence\n",
    "# -----------------------------\n",
    "sentence = \"translate English to German: I love AI.\"\n",
    "\n",
    "# Tokenize\n",
    "inputs = tokenizer(sentence, return_tensors=\"pt\")\n",
    "\n",
    "# -----------------------------\n",
    "# 3️⃣ Generate translation\n",
    "# -----------------------------\n",
    "with torch.no_grad():\n",
    "    output = model.generate(\n",
    "        **inputs,\n",
    "        output_attentions=True,\n",
    "        return_dict_in_generate=True,\n",
    "        max_length=40\n",
    "    )\n",
    "\n",
    "# Decode translation\n",
    "translation = tokenizer.decode(output.sequences[0], skip_special_tokens=True)\n",
    "print(f\"English: I love AI.\")\n",
    "print(f\"German : {translation}\")\n",
    "\n",
    "# -----------------------------\n",
    "# 4️⃣ Visualize encoder self-attention\n",
    "# -----------------------------\n",
    "# Get attention from the encoder (last layer, first head)\n",
    "enc_attn = model(**inputs, output_attentions=True).encoder_attentions[-1][0,0].cpu().numpy()\n",
    "\n",
    "src_tokens = tokenizer.convert_ids_to_tokens(inputs[\"input_ids\"][0])\n",
    "\n",
    "plt.figure(figsize=(6,5))\n",
    "sns.heatmap(enc_attn, xticklabels=src_tokens, yticklabels=src_tokens, cmap=\"YlGnBu\")\n",
    "plt.title(\"Encoder Self-Attention (English Tokens)\")\n",
    "plt.xlabel(\"Keys\")\n",
    "plt.ylabel(\"Queries\")\n",
    "plt.tight_layout()\n",
    "plt.show()\n",
    "\n"
   ]
  }
 ],
 "metadata": {
  "kernelspec": {
   "display_name": "3.11.7",
   "language": "python",
   "name": "python3"
  },
  "language_info": {
   "codemirror_mode": {
    "name": "ipython",
    "version": 3
   },
   "file_extension": ".py",
   "mimetype": "text/x-python",
   "name": "python",
   "nbconvert_exporter": "python",
   "pygments_lexer": "ipython3",
   "version": "3.11.7"
  }
 },
 "nbformat": 4,
 "nbformat_minor": 2
}
