{
 "cells": [
  {
   "cell_type": "markdown",
   "metadata": {},
   "source": [
    "Train a small Transformer on this toy dataset:\n",
    "\n",
    "texts = [\n",
    "    (\"i love ai\", 1),\n",
    "    (\"ai is hard\", 0),\n",
    "    (\"i love transformers\", 1),\n",
    "    (\"attention helps learning\", 1),\n",
    "    (\"i hate bugs\", 0),\n",
    "]\n",
    "\n",
    "\n",
    "Tasks:\n",
    "\n",
    "Tokenize and pad each sentence.\n",
    "\n",
    "Build a simple Transformer classifier.\n",
    "\n",
    "Train for 10 epochs.\n",
    "\n",
    "Plot training loss.\n",
    "\n",
    "Visualize attention heatmaps for “i love ai” vs “i hate bugs”."
   ]
  },
  {
   "cell_type": "code",
   "execution_count": 12,
   "metadata": {},
   "outputs": [
    {
     "name": "stdout",
     "output_type": "stream",
     "text": [
      "Vocabulary: {'<pad>': 0, '<unk>': 1, '<cls>': 2, 'ai': 3, 'attention': 4, 'bugs': 5, 'hard': 6, 'hate': 7, 'helps': 8, 'i': 9, 'is': 10, 'learning': 11, 'love': 12, 'transformers': 13}\n",
      "Encoded input shape: torch.Size([5, 6])\n"
     ]
    }
   ],
   "source": [
    "# ===============================================================\n",
    "# 1. SETUP: Imports, Dataset, Tokenization, Vocabulary\n",
    "# ===============================================================\n",
    "import torch, math, re, matplotlib.pyplot as plt\n",
    "from torch import nn\n",
    "from collections import Counter\n",
    "\n",
    "torch.manual_seed(42)  # reproducible on CPU\n",
    "\n",
    "# ----- Toy dataset -----\n",
    "texts = [\n",
    "    (\"i love ai\", 1),\n",
    "    (\"ai is hard\", 0),\n",
    "    (\"i love transformers\", 1),\n",
    "    (\"attention helps learning\", 1),\n",
    "    (\"i hate bugs\", 0),\n",
    "]\n",
    "\n",
    "PAD, UNK, CLS = \"<pad>\", \"<unk>\", \"<cls>\"\n",
    "\n",
    "def tokenize(s):\n",
    "    return re.findall(r\"\\w+\", s.lower())\n",
    "\n",
    "# ----- Build vocabulary -----\n",
    "counter = Counter()\n",
    "for t, _ in texts:\n",
    "    counter.update(tokenize(t))\n",
    "itos = [PAD, UNK, CLS] + sorted(counter)\n",
    "stoi = {w: i for i, w in enumerate(itos)}\n",
    "vocab_size = len(stoi)\n",
    "print(\"Vocabulary:\", stoi)\n",
    "\n",
    "# ----- Encode sentences -----\n",
    "def encode(s, max_len=6):\n",
    "    toks = [CLS] + tokenize(s)\n",
    "    ids = [stoi.get(tok, stoi[UNK]) for tok in toks][:max_len]\n",
    "    ids += [stoi[PAD]] * (max_len - len(ids))\n",
    "    return torch.tensor(ids)\n",
    "\n",
    "X = torch.stack([encode(t) for t,_ in texts])\n",
    "y = torch.tensor([lab for _, lab in texts])\n",
    "print(\"Encoded input shape:\", X.shape)\n"
   ]
  },
  {
   "cell_type": "code",
   "execution_count": 13,
   "metadata": {},
   "outputs": [],
   "source": [
    "# ===============================================================\n",
    "# 2. POSITIONAL ENCODING\n",
    "# ===============================================================\n",
    "def positional_encoding(seq_len, d_model):\n",
    "    pe = torch.zeros(seq_len, d_model)\n",
    "    pos = torch.arange(0, seq_len).unsqueeze(1)\n",
    "    div = torch.exp(torch.arange(0, d_model, 2)*(-math.log(10000.0)/d_model))\n",
    "    pe[:, 0::2] = torch.sin(pos * div)\n",
    "    pe[:, 1::2] = torch.cos(pos * div)\n",
    "    return pe\n"
   ]
  },
  {
   "cell_type": "code",
   "execution_count": 14,
   "metadata": {},
   "outputs": [],
   "source": [
    "# ===============================================================\n",
    "# 3️. CUSTOM TRANSFORMER LAYER (records attention weights)\n",
    "# ===============================================================\n",
    "class CustomEncoderLayer(nn.Module):\n",
    "    def __init__(self, d_model, nhead, dim_feedforward=64, dropout=0.1):\n",
    "        super().__init__()\n",
    "        self.self_attn = nn.MultiheadAttention(d_model, nhead, batch_first=True)\n",
    "        self.ff = nn.Sequential(\n",
    "            nn.Linear(d_model, dim_feedforward),\n",
    "            nn.ReLU(),\n",
    "            nn.Linear(dim_feedforward, d_model)\n",
    "        )\n",
    "        self.norm1 = nn.LayerNorm(d_model)\n",
    "        self.norm2 = nn.LayerNorm(d_model)\n",
    "        self.dropout = nn.Dropout(dropout)\n",
    "        self.last_attn = None  # store attention weights\n",
    "\n",
    "    def forward(self, x):\n",
    "        attn_out, attn_weights = self.self_attn(x, x, x, need_weights=True)\n",
    "        self.last_attn = attn_weights.detach()  # [B, heads, T, T]\n",
    "        x = self.norm1(x + self.dropout(attn_out))\n",
    "        ff_out = self.ff(x)\n",
    "        x = self.norm2(x + self.dropout(ff_out))\n",
    "        return x\n"
   ]
  },
  {
   "cell_type": "code",
   "execution_count": 15,
   "metadata": {},
   "outputs": [],
   "source": [
    "# ===============================================================\n",
    "# 4️. TINY TRANSFORMER CLASSIFIER\n",
    "# ===============================================================\n",
    "class TinyTransformer(nn.Module):\n",
    "    def __init__(self, vocab, d_model=32, heads=2, layers=2, n_classes=2, max_len=10):\n",
    "        super().__init__()\n",
    "        self.emb = nn.Embedding(vocab, d_model)\n",
    "        self.register_buffer(\"pe\", positional_encoding(max_len, d_model))\n",
    "        self.layers = nn.ModuleList([CustomEncoderLayer(d_model, heads) for _ in range(layers)])\n",
    "        self.cls = nn.Linear(d_model, n_classes)\n",
    "\n",
    "    def forward(self, x):\n",
    "        B, T = x.shape\n",
    "        x = self.emb(x) + self.pe[:T].unsqueeze(0)\n",
    "        for layer in self.layers:\n",
    "            x = layer(x)\n",
    "        cls_vec = x[:, 0, :]  # take CLS token output\n",
    "        return self.cls(cls_vec)\n"
   ]
  },
  {
   "cell_type": "code",
   "execution_count": 16,
   "metadata": {},
   "outputs": [
    {
     "name": "stdout",
     "output_type": "stream",
     "text": [
      "Epoch 1: Loss = 0.7784\n",
      "Epoch 2: Loss = 0.7646\n",
      "Epoch 3: Loss = 0.5815\n",
      "Epoch 4: Loss = 0.6144\n",
      "Epoch 5: Loss = 0.5978\n",
      "Epoch 6: Loss = 0.5218\n",
      "Epoch 7: Loss = 0.4179\n",
      "Epoch 8: Loss = 0.3022\n",
      "Epoch 9: Loss = 0.2171\n",
      "Epoch 10: Loss = 0.2112\n"
     ]
    },
    {
     "data": {
      "image/png": "[encoded data removed]",
      "text/plain": [
       "<Figure size 640x480 with 1 Axes>"
      ]
     },
     "metadata": {},
     "output_type": "display_data"
    }
   ],
   "source": [
    "# ===============================================================\n",
    "# 5️. TRAINING LOOP\n",
    "# ===============================================================\n",
    "model = TinyTransformer(vocab_size, d_model=32)\n",
    "loss_fn = nn.CrossEntropyLoss()\n",
    "opt = torch.optim.Adam(model.parameters(), lr=5e-3)\n",
    "\n",
    "losses = []\n",
    "for epoch in range(10):\n",
    "    model.train()\n",
    "    opt.zero_grad()\n",
    "    logits = model(X)\n",
    "    loss = loss_fn(logits, y)\n",
    "    loss.backward()\n",
    "    opt.step()\n",
    "    losses.append(loss.item())\n",
    "    print(f\"Epoch {epoch+1}: Loss = {loss.item():.4f}\")\n",
    "\n",
    "plt.plot(losses)\n",
    "plt.title(\"Training Loss Curve\")\n",
    "plt.xlabel(\"Epoch\")\n",
    "plt.ylabel(\"Loss\")\n",
    "plt.show()\n"
   ]
  },
  {
   "cell_type": "code",
   "execution_count": 18,
   "metadata": {},
   "outputs": [
    {
     "name": "stdout",
     "output_type": "stream",
     "text": [
      "i love ai                 → probs = [0.13298308849334717, 0.8670169115066528]\n",
      "i hate bugs               → probs = [0.974789559841156, 0.025210462510585785]\n"
     ]
    }
   ],
   "source": [
    "# ===============================================================\n",
    "# 6️. INFERENCE (Prediction)\n",
    "# ===============================================================\n",
    "model.eval()\n",
    "with torch.no_grad():\n",
    "    test_sentences = [\"i love ai\", \"i hate bugs\"]\n",
    "    for s in test_sentences:\n",
    "        ids = encode(s).unsqueeze(0)\n",
    "        probs = torch.softmax(model(ids), dim=-1)\n",
    "        print(f\"{s:25s} → probs = {probs.squeeze().tolist()}\")\n"
   ]
  }
 ],
 "metadata": {
  "kernelspec": {
   "display_name": "3.11.7",
   "language": "python",
   "name": "python3"
  },
  "language_info": {
   "codemirror_mode": {
    "name": "ipython",
    "version": 3
   },
   "file_extension": ".py",
   "mimetype": "text/x-python",
   "name": "python",
   "nbconvert_exporter": "python",
   "pygments_lexer": "ipython3",
   "version": "3.11.7"
  }
 },
 "nbformat": 4,
 "nbformat_minor": 2
}
